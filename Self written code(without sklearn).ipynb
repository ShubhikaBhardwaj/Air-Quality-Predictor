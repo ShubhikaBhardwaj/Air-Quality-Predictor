{
 "cells": [
  {
   "cell_type": "code",
   "execution_count": 36,
   "metadata": {},
   "outputs": [],
   "source": [
    "import numpy as np\n",
    "import pandas as pd\n",
    "import matplotlib.pyplot as plt"
   ]
  },
  {
   "cell_type": "code",
   "execution_count": 37,
   "metadata": {},
   "outputs": [],
   "source": [
    "df=pd.read_csv('./Train.csv').values"
   ]
  },
  {
   "cell_type": "code",
   "execution_count": 38,
   "metadata": {},
   "outputs": [
    {
     "data": {
      "text/plain": [
       "numpy.ndarray"
      ]
     },
     "execution_count": 38,
     "metadata": {},
     "output_type": "execute_result"
    }
   ],
   "source": [
    "type(df)"
   ]
  },
  {
   "cell_type": "code",
   "execution_count": 39,
   "metadata": {},
   "outputs": [],
   "source": [
    "x=df[:,0:5]"
   ]
  },
  {
   "cell_type": "code",
   "execution_count": 40,
   "metadata": {},
   "outputs": [],
   "source": [
    "y=df[:,5:6]"
   ]
  },
  {
   "cell_type": "code",
   "execution_count": 60,
   "metadata": {},
   "outputs": [
    {
     "data": {
      "text/plain": [
       "(1600,)"
      ]
     },
     "execution_count": 60,
     "metadata": {},
     "output_type": "execute_result"
    }
   ],
   "source": [
    "y.shape"
   ]
  },
  {
   "cell_type": "code",
   "execution_count": 41,
   "metadata": {},
   "outputs": [
    {
     "data": {
      "text/plain": [
       "(1600, 5)"
      ]
     },
     "execution_count": 41,
     "metadata": {},
     "output_type": "execute_result"
    }
   ],
   "source": [
    "x.shape"
   ]
  },
  {
   "cell_type": "code",
   "execution_count": 42,
   "metadata": {},
   "outputs": [],
   "source": [
    "ones = np.ones([x.shape[0],1])\n",
    "x = np.concatenate((ones,x),axis=1)"
   ]
  },
  {
   "cell_type": "code",
   "execution_count": 43,
   "metadata": {},
   "outputs": [
    {
     "data": {
      "text/plain": [
       "(1600, 6)"
      ]
     },
     "execution_count": 43,
     "metadata": {},
     "output_type": "execute_result"
    }
   ],
   "source": [
    "#  First column should be ones bcoz we need to consider the bias term as well.\n",
    "#  If we dont take 1 columns, we would get only 5 thetas. but we want thetas + bias. Therefore this coulmn is useful\n",
    "x.shape"
   ]
  },
  {
   "cell_type": "code",
   "execution_count": 44,
   "metadata": {},
   "outputs": [],
   "source": [
    "y = y.reshape(-1,)"
   ]
  },
  {
   "cell_type": "code",
   "execution_count": 59,
   "metadata": {},
   "outputs": [
    {
     "data": {
      "text/plain": [
       "(1600,)"
      ]
     },
     "execution_count": 59,
     "metadata": {},
     "output_type": "execute_result"
    }
   ],
   "source": [
    "y.shape"
   ]
  },
  {
   "cell_type": "code",
   "execution_count": null,
   "metadata": {},
   "outputs": [],
   "source": []
  },
  {
   "cell_type": "code",
   "execution_count": 45,
   "metadata": {},
   "outputs": [],
   "source": [
    "def hypothesis(x,theta):\n",
    "    #return theta[1]*x + theta[0]\n",
    "    return np.dot(x,theta)\n",
    "    \n",
    "def gradient(x,y,theta):\n",
    "     \n",
    "    grad = np.zeros(x.shape[1],)\n",
    "    m = x.shape[0]\n",
    "    thetas=[]\n",
    "    \n",
    "    \n",
    "    \n",
    "    for i in range(x.shape[1]):\n",
    "           \n",
    "        for j in range(m):\n",
    "            hx= hypothesis(x[j],theta) # Calculate hypothesis for all examples\n",
    "            grad[i] += (hx-y[j])*x[j][i] \n",
    "#             thetas.append(grad[i]/m) # Not required to use thetas directly return grad\n",
    "            \n",
    "    return grad\n",
    "\n",
    "#for i in range(m):\n",
    "#        hx = hypothesis(x[i],theta)\n",
    "#        grad[1] += (hx-y[i])*x[i]\n",
    "#        grad[0] += (hx-y[i])\n",
    "\n",
    " #   return grad/m\n",
    "#\n",
    "\n",
    "\n",
    "def error(x,y,theta):\n",
    "    \n",
    "    e = 0\n",
    "    for i in range(x.shape[0]):\n",
    "        e += (y[i] - hypothesis(x[i],theta))**2\n",
    "    \n",
    "    #print(type(e))\n",
    "    return 0.5*e/x.shape[0]\n",
    "\n",
    "def gradientDescent(x,y,lr=0.0001, threshold=0.001):\n",
    "    theta = np.zeros(x.shape[1],)\n",
    "    error_list = []\n",
    "    # Homework - define converge criteria to break the loop\n",
    "    # Change in error < threshold\n",
    "    \n",
    "    for i in range(300): \n",
    "        grad = gradient(x,y,theta)\n",
    "        e = error(x,y,theta)\n",
    "        error_list.append(e)\n",
    "        #upperlimit=5(val)\n",
    "        val=x.shape[1]\n",
    "        for j in range(val):\n",
    "            theta[j]=theta[j]-lr*grad[j]\n",
    "        \n",
    "    return theta,error_list"
   ]
  },
  {
   "cell_type": "code",
   "execution_count": 46,
   "metadata": {},
   "outputs": [],
   "source": [
    "theta,err= gradientDescent(x,y)"
   ]
  },
  {
   "cell_type": "code",
   "execution_count": 47,
   "metadata": {},
   "outputs": [
    {
     "data": {
      "text/plain": [
       "[<matplotlib.lines.Line2D at 0x4b15e90>]"
      ]
     },
     "execution_count": 47,
     "metadata": {},
     "output_type": "execute_result"
    },
    {
     "data": {
      "image/png": "[encoded data removed]",
      "text/plain": [
       "<Figure size 432x288 with 1 Axes>"
      ]
     },
     "metadata": {
      "needs_background": "light"
     },
     "output_type": "display_data"
    }
   ],
   "source": [
    "#  Error is decreasing now :-)\n",
    "plt.plot(err)"
   ]
  },
  {
   "cell_type": "code",
   "execution_count": 48,
   "metadata": {},
   "outputs": [],
   "source": [
    "xtest=pd.read_csv('./Test.csv').values"
   ]
  },
  {
   "cell_type": "code",
   "execution_count": 49,
   "metadata": {},
   "outputs": [],
   "source": [
    "# Add ones to test array also\n",
    "ones = np.ones([xtest.shape[0],1])\n",
    "xtest = np.concatenate((ones,xtest),axis=1)"
   ]
  },
  {
   "cell_type": "code",
   "execution_count": null,
   "metadata": {},
   "outputs": [],
   "source": []
  },
  {
   "cell_type": "code",
   "execution_count": null,
   "metadata": {},
   "outputs": [],
   "source": []
  },
  {
   "cell_type": "code",
   "execution_count": 50,
   "metadata": {},
   "outputs": [
    {
     "data": {
      "text/plain": [
       "(400, 6)"
      ]
     },
     "execution_count": 50,
     "metadata": {},
     "output_type": "execute_result"
    }
   ],
   "source": [
    "\n",
    "xtest.shape"
   ]
  },
  {
   "cell_type": "code",
   "execution_count": 51,
   "metadata": {},
   "outputs": [],
   "source": [
    "\n",
    "ans=hypothesis(xtest,theta)"
   ]
  },
  {
   "cell_type": "code",
   "execution_count": 52,
   "metadata": {},
   "outputs": [
    {
     "name": "stdout",
     "output_type": "stream",
     "text": [
      "(400,)\n"
     ]
    }
   ],
   "source": [
    "print(ans.shape)"
   ]
  },
  {
   "cell_type": "code",
   "execution_count": null,
   "metadata": {},
   "outputs": [],
   "source": []
  },
  {
   "cell_type": "code",
   "execution_count": 53,
   "metadata": {},
   "outputs": [],
   "source": [
    "ans = (ans).astype(\"int\")"
   ]
  },
  {
   "cell_type": "code",
   "execution_count": 58,
   "metadata": {},
   "outputs": [
    {
     "data": {
      "text/plain": [
       "array([ 114,  118,  -21,  -43,  -95,  -44,  -75,   23,  173,  172, -105,\n",
       "        -20,   -3,  122,   40,   45, -189,   22,   11,  136,   64,  -61,\n",
       "       -108,   -7,  -58,   11,   29,  107,   24,  -26,  110,  -44,  216,\n",
       "        -13, -228,  154,   -2,   12, -308,   77,  -81, -206, -238,  134,\n",
       "        -73,  105,   -3,   20,  -98,  -27,   10, -174,   65,  -97, -106,\n",
       "       -155,   62,  108,  -74,   41,   41,  -50,  164,   43,   56,   24,\n",
       "         81,   -1,   -3,    1,  -23,  161,  -41,   21,  -66,  -69,   36,\n",
       "       -160,   -1,  151,  -38, -120, -194,   36,  146,  271, -256,  -88,\n",
       "         76,  -89,  -49,  125, -163, -116,   48,   98, -215, -121, -172,\n",
       "        -51,  127,  -83,   -3,   -1,    0,   80,   44,   92,  -30,  -84,\n",
       "         38,   18,  117,    7,   73,   32, -142,    7,   21,  -22,  -21,\n",
       "       -255,  267,  155,   14,   83,  -12, -153,  112,  -32, -216,  121,\n",
       "        -29,  -86,  170,   39,  -19,   61,   46, -175,  130,  -72,  212,\n",
       "        135,    0, -153,  -14,  133,   35,   57,   -4,  -43,   17,  -69,\n",
       "         28,  141,  346,  216,   27,  -37, -171,   12,  298,   75,  -22,\n",
       "        155, -155,  141,  171,  -46,   65,   97,   94,   31,  174, -151,\n",
       "        -94, -169,  -18, -107,  -14,  -58,  -75,   67,  -68,   88,  -57,\n",
       "       -109,  -77,  185,  -41,  219,  -56,  -83,   47,    0,   71,  -60,\n",
       "        209, -138,  -96, -115,   24,   54,  150,   46,   91,  173, -270,\n",
       "       -173, -105,  -82,   29,  -50,   78,  -20,  -52,  -28,   65,   91,\n",
       "        -82, -148,   48,  238,  -48,   15,  -61,   13,   10,   39,  115,\n",
       "         18, -107,   46,  100,  -88, -174,  169,  109,   62,   -8,  -24,\n",
       "        -47, -171,  -65,  -27, -171,  -28,   34, -121,   17,    0, -254,\n",
       "       -253, -165,   46,  131,   70,  119,   93,   22, -306,  187, -130,\n",
       "        -43,  -84,  -87,  137,  162,  -40, -142,  113,  -19,   88,  105,\n",
       "         25,  -50,  -26,   30,   73,   28, -128,  -15,  -11, -126,  162,\n",
       "        -10, -133,  206,   48,   93,   31,  207,  -38,  -30,  -40,   52,\n",
       "        -62,   93,  -84,  -95,  -24,  -89,  -23,   59,  -32,  -74, -179,\n",
       "       -163,   41,   80,  301,  128,  130,   52,  -21,  183,  -58,  129,\n",
       "        152,  -33, -202,  -98,    4,  -44,  -37,  157,  134,   25,  -88,\n",
       "        187,  -65,   65,   80,   98, -105,  114,  -34,   88,  -83, -202,\n",
       "        158,  -93,   65,  125,   30, -175,  -33,  -47, -117,   12,  -88,\n",
       "        -38, -163, -218,    5, -205,  185,   -9,   18,   32,  241,  -27,\n",
       "        134,   57,   10,  -86,   -9,  223,  -14, -137,  -50,  -93,    8,\n",
       "        -14,  -62,  -16, -172, -122,   45,  -37, -157,   87,    0,  133,\n",
       "        -47,    2,  174,  170,   46,  -26,   59,  111,  -36,  -69,  -81,\n",
       "       -186,  125,   65,   57])"
      ]
     },
     "execution_count": 58,
     "metadata": {},
     "output_type": "execute_result"
    }
   ],
   "source": [
    "ans"
   ]
  },
  {
   "cell_type": "code",
   "execution_count": 55,
   "metadata": {},
   "outputs": [],
   "source": [
    "ids = np.arange(400)"
   ]
  },
  {
   "cell_type": "code",
   "execution_count": 56,
   "metadata": {},
   "outputs": [],
   "source": [
    "df = pd.DataFrame({\"Id\":ids, \"target\":ans},columns=[\"Id\", \"target\"])"
   ]
  },
  {
   "cell_type": "code",
   "execution_count": 61,
   "metadata": {},
   "outputs": [],
   "source": [
    "df.to_csv(\"final_self_pred_ans.csv\", index=False)"
   ]
  },
  {
   "cell_type": "code",
   "execution_count": null,
   "metadata": {},
   "outputs": [],
   "source": []
  }
 ],
 "metadata": {
  "kernelspec": {
   "display_name": "Python 3",
   "language": "python",
   "name": "python3"
  },
  "language_info": {
   "codemirror_mode": {
    "name": "ipython",
    "version": 3
   },
   "file_extension": ".py",
   "mimetype": "text/x-python",
   "name": "python",
   "nbconvert_exporter": "python",
   "pygments_lexer": "ipython3",
   "version": "3.7.4"
  }
 },
 "nbformat": 4,
 "nbformat_minor": 2
}
