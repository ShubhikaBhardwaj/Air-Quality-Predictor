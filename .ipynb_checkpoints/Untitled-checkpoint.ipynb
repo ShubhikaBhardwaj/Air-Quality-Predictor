{
 "cells": [
  {
   "cell_type": "code",
   "execution_count": 1,
   "metadata": {},
   "outputs": [],
   "source": [
    "import pandas as pd"
   ]
  },
  {
   "cell_type": "code",
   "execution_count": 2,
   "metadata": {},
   "outputs": [],
   "source": [
    "import matplotlib.pyplot as plt"
   ]
  },
  {
   "cell_type": "code",
   "execution_count": 3,
   "metadata": {},
   "outputs": [],
   "source": [
    "import cv2\n"
   ]
  },
  {
   "cell_type": "code",
   "execution_count": 4,
   "metadata": {},
   "outputs": [],
   "source": [
    "import numpy as np"
   ]
  },
  {
   "cell_type": "code",
   "execution_count": 5,
   "metadata": {},
   "outputs": [],
   "source": [
    "data=pd.read_csv('./Train.csv').values"
   ]
  },
  {
   "cell_type": "code",
   "execution_count": 6,
   "metadata": {},
   "outputs": [
    {
     "name": "stdout",
     "output_type": "stream",
     "text": [
      "[[ 2.93416239e-01 -9.45598713e-01 -4.21105147e-01  4.06816021e-01\n",
      "   5.25661832e-01 -8.21546666e+01]\n",
      " [-8.36084081e-01 -1.89228039e-01 -7.76402618e-01 -1.05383124e+00\n",
      "   5.97996852e-01 -4.88979602e+01]\n",
      " [ 2.36425114e-01  1.32836018e-01 -1.47722982e-01  6.99853963e-01\n",
      "  -1.87364163e-01  7.72703707e+01]\n",
      " ...\n",
      " [ 1.04417694e+00 -8.99206485e-01  1.73039905e+00 -1.87105676e+00\n",
      "   4.42519647e-01 -1.07510508e+02]\n",
      " [-1.26917290e+00 -5.05215916e-03  1.85766873e+00 -1.08036482e+00\n",
      "   7.36333937e-01 -4.73415578e+01]\n",
      " [-1.88400025e+00 -8.49427430e-01 -1.45227035e+00  4.88613076e-01\n",
      "   1.45957580e+00 -1.15939003e+02]]\n"
     ]
    }
   ],
   "source": [
    "print(data)"
   ]
  },
  {
   "cell_type": "code",
   "execution_count": 7,
   "metadata": {},
   "outputs": [
    {
     "data": {
      "text/plain": [
       "(1600, 6)"
      ]
     },
     "execution_count": 7,
     "metadata": {},
     "output_type": "execute_result"
    }
   ],
   "source": [
    "data.shape"
   ]
  },
  {
   "cell_type": "code",
   "execution_count": 21,
   "metadata": {},
   "outputs": [],
   "source": [
    "x=np.array(data[:,0:5])"
   ]
  },
  {
   "cell_type": "code",
   "execution_count": null,
   "metadata": {},
   "outputs": [],
   "source": []
  },
  {
   "cell_type": "code",
   "execution_count": 22,
   "metadata": {},
   "outputs": [
    {
     "name": "stdout",
     "output_type": "stream",
     "text": [
      "[[ 0.29341624 -0.94559871 -0.42110515  0.40681602  0.52566183]\n",
      " [-0.83608408 -0.18922804 -0.77640262 -1.05383124  0.59799685]\n",
      " [ 0.23642511  0.13283602 -0.14772298  0.69985396 -0.18736416]\n",
      " ...\n",
      " [ 1.04417694 -0.89920649  1.73039905 -1.87105676  0.44251965]\n",
      " [-1.2691729  -0.00505216  1.85766873 -1.08036482  0.73633394]\n",
      " [-1.88400025 -0.84942743 -1.45227035  0.48861308  1.4595758 ]]\n"
     ]
    }
   ],
   "source": [
    "print(x)"
   ]
  },
  {
   "cell_type": "code",
   "execution_count": 32,
   "metadata": {},
   "outputs": [],
   "source": [
    "x1=np.array(data[:,0:1])"
   ]
  },
  {
   "cell_type": "code",
   "execution_count": 33,
   "metadata": {},
   "outputs": [
    {
     "name": "stdout",
     "output_type": "stream",
     "text": [
      "[[ 0.29341624]\n",
      " [-0.83608408]\n",
      " [ 0.23642511]\n",
      " ...\n",
      " [ 1.04417694]\n",
      " [-1.2691729 ]\n",
      " [-1.88400025]]\n"
     ]
    }
   ],
   "source": [
    "print(x1)"
   ]
  },
  {
   "cell_type": "code",
   "execution_count": 34,
   "metadata": {},
   "outputs": [],
   "source": [
    "y=np.array(data[:,5:6])"
   ]
  },
  {
   "cell_type": "code",
   "execution_count": 35,
   "metadata": {},
   "outputs": [
    {
     "name": "stdout",
     "output_type": "stream",
     "text": [
      "[[ -82.15466656]\n",
      " [ -48.89796018]\n",
      " [  77.2703707 ]\n",
      " ...\n",
      " [-107.51050797]\n",
      " [ -47.34155781]\n",
      " [-115.93900296]]\n"
     ]
    }
   ],
   "source": [
    "print(y)"
   ]
  },
  {
   "cell_type": "code",
   "execution_count": 36,
   "metadata": {},
   "outputs": [
    {
     "data": {
      "text/plain": [
       "(1600, 5)"
      ]
     },
     "execution_count": 36,
     "metadata": {},
     "output_type": "execute_result"
    }
   ],
   "source": [
    "x.shape"
   ]
  },
  {
   "cell_type": "code",
   "execution_count": 37,
   "metadata": {},
   "outputs": [
    {
     "data": {
      "text/plain": [
       "(1600, 1)"
      ]
     },
     "execution_count": 37,
     "metadata": {},
     "output_type": "execute_result"
    }
   ],
   "source": [
    "y.shape"
   ]
  },
  {
   "cell_type": "code",
   "execution_count": 39,
   "metadata": {},
   "outputs": [
    {
     "data": {
      "text/plain": [
       "(1600, 1)"
      ]
     },
     "execution_count": 39,
     "metadata": {},
     "output_type": "execute_result"
    }
   ],
   "source": [
    "x1.shape"
   ]
  },
  {
   "cell_type": "code",
   "execution_count": 40,
   "metadata": {},
   "outputs": [
    {
     "data": {
      "image/png": "[encoded data removed]",
      "text/plain": [
       "<Figure size 432x288 with 1 Axes>"
      ]
     },
     "metadata": {
      "needs_background": "light"
     },
     "output_type": "display_data"
    }
   ],
   "source": [
    "plt.scatter(x1,y)\n",
    "plt.show()"
   ]
  },
  {
   "cell_type": "code",
   "execution_count": null,
   "metadata": {},
   "outputs": [],
   "source": []
  }
 ],
 "metadata": {
  "kernelspec": {
   "display_name": "Python 3",
   "language": "python",
   "name": "python3"
  },
  "language_info": {
   "codemirror_mode": {
    "name": "ipython",
    "version": 3
   },
   "file_extension": ".py",
   "mimetype": "text/x-python",
   "name": "python",
   "nbconvert_exporter": "python",
   "pygments_lexer": "ipython3",
   "version": "3.7.4"
  }
 },
 "nbformat": 4,
 "nbformat_minor": 2
}
